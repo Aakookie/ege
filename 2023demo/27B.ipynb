{
 "cells": [
  {
   "cell_type": "code",
   "execution_count": 2,
   "id": "f1e76b22",
   "metadata": {},
   "outputs": [
    {
     "name": "stdout",
     "output_type": "stream",
     "text": [
      "1100000\n",
      "\n"
     ]
    }
   ],
   "source": [
    "#27B часть загрузки данных\n",
    "cost_punkt=[]\n",
    "data=[]\n",
    "konteiners=0\n",
    "with open('27_B.txt') as f:\n",
    "    d=f.readlines()\n",
    "    punkts=d[0]\n",
    "    \n",
    "for i in range (1,len(d)):\n",
    "    data.append(d[i].split())\n",
    "print(punkts)"
   ]
  },
  {
   "cell_type": "code",
   "execution_count": 3,
   "id": "672a9508",
   "metadata": {},
   "outputs": [
    {
     "name": "stdout",
     "output_type": "stream",
     "text": [
      "5634689219329\n",
      "5634689219332\n"
     ]
    }
   ],
   "source": [
    "#вторая часть программы методом половинного деления в ручном управлении\n",
    "mini=1000000000\n",
    "num_pu=0\n",
    "count_i=0\n",
    "ii=549724\n",
    "for i in range(ii,ii+2):\n",
    "    position0=int(data[i][0])\n",
    "    cost=0\n",
    "    for y in range (0,len(data)):\n",
    "        konteiners=round(int(data[y][1])/36)\n",
    "        if round(int(data[y][1])/36) < int(data[y][1])/36:\n",
    "            konteiners=(int(data[y][1])//36) + 1\n",
    "        cost+=abs(int(data[y][0])-position0) * konteiners\n",
    "    print(cost)"
   ]
  }
 ],
 "metadata": {
  "kernelspec": {
   "display_name": "Python 3 (ipykernel)",
   "language": "python",
   "name": "python3"
  },
  "language_info": {
   "codemirror_mode": {
    "name": "ipython",
    "version": 3
   },
   "file_extension": ".py",
   "mimetype": "text/x-python",
   "name": "python",
   "nbconvert_exporter": "python",
   "pygments_lexer": "ipython3",
   "version": "3.10.5"
  }
 },
 "nbformat": 4,
 "nbformat_minor": 5
}
