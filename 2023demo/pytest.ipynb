{
 "cells": [
  {
   "cell_type": "markdown",
   "id": "2e425afc",
   "metadata": {},
   "source": [
    "# python jupiter   \n",
    "## pytest.ipynb\n",
    "### Ctrl-Enter - execute block \n",
    "### Shift-Enter - new block"
   ]
  },
  {
   "cell_type": "code",
   "execution_count": 6,
   "id": "df8c259f",
   "metadata": {},
   "outputs": [
    {
     "name": "stdout",
     "output_type": "stream",
     "text": [
      "3\n"
     ]
    }
   ],
   "source": [
    "a=2\n",
    "print(a+1)"
   ]
  },
  {
   "cell_type": "code",
   "execution_count": 5,
   "id": "f3329af4",
   "metadata": {},
   "outputs": [
    {
     "name": "stdout",
     "output_type": "stream",
     "text": [
      "4\n"
     ]
    }
   ],
   "source": [
    "print(2+2)"
   ]
  },
  {
   "cell_type": "code",
   "execution_count": 4,
   "id": "e417ab23-dd8c-4305-8234-c8f325b03fe7",
   "metadata": {},
   "outputs": [
    {
     "name": "stdout",
     "output_type": "stream",
     "text": [
      "ab\n"
     ]
    }
   ],
   "source": [
    "print('a'+'b')"
   ]
  },
  {
   "cell_type": "code",
   "execution_count": 8,
   "id": "ce3209ee-a061-4947-9c4e-e824cfbda4c5",
   "metadata": {},
   "outputs": [
    {
     "name": "stdout",
     "output_type": "stream",
     "text": [
      "abcabcabcabcabc\n"
     ]
    }
   ],
   "source": [
    "print('abc'*5)"
   ]
  },
  {
   "cell_type": "code",
   "execution_count": 10,
   "id": "383966af",
   "metadata": {},
   "outputs": [
    {
     "name": "stdout",
     "output_type": "stream",
     "text": [
      "['a', 'b', 'c', 'd', 'e', 'f']\n"
     ]
    }
   ],
   "source": [
    "a='abcdef'\n",
    "a=list(a)\n",
    "print(a)"
   ]
  },
  {
   "cell_type": "code",
   "execution_count": 3,
   "id": "e8caef2a",
   "metadata": {},
   "outputs": [
    {
     "name": "stdout",
     "output_type": "stream",
     "text": [
      "0\n",
      "1\n",
      "2\n",
      "3\n",
      "4\n",
      "5\n",
      "6\n",
      "7\n",
      "8\n",
      "9\n",
      "0 1 2 3 4 5 6 7 8 9 \n",
      "0,1,2,3,4,5,6,7,8,9,"
     ]
    }
   ],
   "source": [
    "for i in range(10):\n",
    "    print (i)\n",
    "    \n",
    "for i in range(10):\n",
    "    print (i, end=\" \")\n",
    "    \n",
    "print()\n",
    "\n",
    "for i in range(10):\n",
    "    print (i, end=\",\")"
   ]
  },
  {
   "cell_type": "code",
   "execution_count": 2,
   "id": "ca5f5da8-1f2c-4492-915d-71bac79e3047",
   "metadata": {},
   "outputs": [
    {
     "ename": "SyntaxError",
     "evalue": "Missing parentheses in call to 'print'. Did you mean print(...)? (490382888.py, line 3)",
     "output_type": "error",
     "traceback": [
      "\u001b[1;36m  Input \u001b[1;32mIn [2]\u001b[1;36m\u001b[0m\n\u001b[1;33m    print i\u001b[0m\n\u001b[1;37m    ^\u001b[0m\n\u001b[1;31mSyntaxError\u001b[0m\u001b[1;31m:\u001b[0m Missing parentheses in call to 'print'. Did you mean print(...)?\n"
     ]
    }
   ],
   "source": [
    "#error example\n",
    "for i in range(10):\n",
    "    print i"
   ]
  },
  {
   "cell_type": "code",
   "execution_count": 11,
   "id": "e667e6e1-bcac-41ee-b249-e3c528187089",
   "metadata": {
    "scrolled": true
   },
   "outputs": [
    {
     "name": "stdout",
     "output_type": "stream",
     "text": [
      "Введите число1\n",
      "Было введено 1, +1 будет 2\n"
     ]
    }
   ],
   "source": [
    "a=int(input(\"Введите число\"))\n",
    "print(f\"Было введено {a}, +1 будет {a+1}\")"
   ]
  },
  {
   "cell_type": "code",
   "execution_count": 19,
   "id": "9695fa83",
   "metadata": {},
   "outputs": [
    {
     "name": "stdout",
     "output_type": "stream",
     "text": [
      "Исполнился файл test.py\n"
     ]
    }
   ],
   "source": [
    "%run ./test.py"
   ]
  },
  {
   "cell_type": "code",
   "execution_count": null,
   "id": "7c1f9474",
   "metadata": {},
   "outputs": [],
   "source": [
    "!pip install matplotlib"
   ]
  },
  {
   "cell_type": "code",
   "execution_count": 26,
   "id": "7e97981f",
   "metadata": {},
   "outputs": [
    {
     "ename": "AttributeError",
     "evalue": "module 'matplotlib.mlab' has no attribute 'bivariate_normal'",
     "output_type": "error",
     "traceback": [
      "\u001b[1;31m---------------------------------------------------------------------------\u001b[0m",
      "\u001b[1;31mAttributeError\u001b[0m                            Traceback (most recent call last)",
      "Input \u001b[1;32mIn [26]\u001b[0m, in \u001b[0;36m<cell line: 23>\u001b[1;34m()\u001b[0m\n\u001b[0;32m     21\u001b[0m y \u001b[38;5;241m=\u001b[39m np\u001b[38;5;241m.\u001b[39marange(\u001b[38;5;241m-\u001b[39m\u001b[38;5;241m2.0\u001b[39m, \u001b[38;5;241m2.0\u001b[39m, delta)\n\u001b[0;32m     22\u001b[0m X, Y \u001b[38;5;241m=\u001b[39m np\u001b[38;5;241m.\u001b[39mmeshgrid(x, y)\n\u001b[1;32m---> 23\u001b[0m Z1 \u001b[38;5;241m=\u001b[39m \u001b[43mmlab\u001b[49m\u001b[38;5;241;43m.\u001b[39;49m\u001b[43mbivariate_normal\u001b[49m(X, Y, \u001b[38;5;241m1.0\u001b[39m, \u001b[38;5;241m1.0\u001b[39m, \u001b[38;5;241m0.0\u001b[39m, \u001b[38;5;241m0.0\u001b[39m)\n\u001b[0;32m     24\u001b[0m Z2 \u001b[38;5;241m=\u001b[39m mlab\u001b[38;5;241m.\u001b[39mbivariate_normal(X, Y, \u001b[38;5;241m1.5\u001b[39m, \u001b[38;5;241m0.5\u001b[39m, \u001b[38;5;241m1\u001b[39m, \u001b[38;5;241m1\u001b[39m)\n\u001b[0;32m     25\u001b[0m \u001b[38;5;66;03m# difference of Gaussians\u001b[39;00m\n",
      "\u001b[1;31mAttributeError\u001b[0m: module 'matplotlib.mlab' has no attribute 'bivariate_normal'"
     ]
    }
   ],
   "source": [
    "#загрузка текста файла из сети\n",
    "# %load http://matplotlib.org/mpl_examples/pylab_examples/contour_demo.py\n",
    "\n",
    "\"\"\"\n",
    "Illustrate simple contour plotting, contours on an image with\n",
    "a colorbar for the contours, and labelled contours.\n",
    "\n",
    "See also contour_image.py.\n",
    "\"\"\"\n",
    "import matplotlib\n",
    "import numpy as np\n",
    "import matplotlib.cm as cm\n",
    "import matplotlib.mlab as mlab\n",
    "import matplotlib.pyplot as plt\n",
    "\n",
    "matplotlib.rcParams['xtick.direction'] = 'out'\n",
    "matplotlib.rcParams['ytick.direction'] = 'out'\n",
    "\n",
    "delta = 0.025\n",
    "x = np.arange(-3.0, 3.0, delta)\n",
    "y = np.arange(-2.0, 2.0, delta)\n",
    "X, Y = np.meshgrid(x, y)\n",
    "Z1 = mlab.bivariate_normal(X, Y, 1.0, 1.0, 0.0, 0.0)\n",
    "Z2 = mlab.bivariate_normal(X, Y, 1.5, 0.5, 1, 1)\n",
    "# difference of Gaussians\n",
    "Z = 10.0 * (Z2 - Z1)\n",
    "\n",
    "\n",
    "# Create a simple contour plot with labels using default colors.  The\n",
    "# inline argument to clabel will control whether the labels are draw\n",
    "# over the line segments of the contour, removing the lines beneath\n",
    "# the label\n",
    "plt.figure()\n",
    "CS = plt.contour(X, Y, Z)\n",
    "plt.clabel(CS, inline=1, fontsize=10)\n",
    "plt.title('Simplest default with labels')\n",
    "\n",
    "\n",
    "# contour labels can be placed manually by providing list of positions\n",
    "# (in data coordinate). See ginput_manual_clabel.py for interactive\n",
    "# placement.\n",
    "plt.figure()\n",
    "CS = plt.contour(X, Y, Z)\n",
    "manual_locations = [(-1, -1.4), (-0.62, -0.7), (-2, 0.5), (1.7, 1.2), (2.0, 1.4), (2.4, 1.7)]\n",
    "plt.clabel(CS, inline=1, fontsize=10, manual=manual_locations)\n",
    "plt.title('labels at selected locations')\n",
    "\n",
    "\n",
    "# You can force all the contours to be the same color.\n",
    "plt.figure()\n",
    "CS = plt.contour(X, Y, Z, 6,\n",
    "                 colors='k',  # negative contours will be dashed by default\n",
    "                 )\n",
    "plt.clabel(CS, fontsize=9, inline=1)\n",
    "plt.title('Single color - negative contours dashed')\n",
    "\n",
    "# You can set negative contours to be solid instead of dashed:\n",
    "matplotlib.rcParams['contour.negative_linestyle'] = 'solid'\n",
    "plt.figure()\n",
    "CS = plt.contour(X, Y, Z, 6,\n",
    "                 colors='k',  # negative contours will be dashed by default\n",
    "                 )\n",
    "plt.clabel(CS, fontsize=9, inline=1)\n",
    "plt.title('Single color - negative contours solid')\n",
    "\n",
    "\n",
    "# And you can manually specify the colors of the contour\n",
    "plt.figure()\n",
    "CS = plt.contour(X, Y, Z, 6,\n",
    "                 linewidths=np.arange(.5, 4, .5),\n",
    "                 colors=('r', 'green', 'blue', (1, 1, 0), '#afeeee', '0.5')\n",
    "                 )\n",
    "plt.clabel(CS, fontsize=9, inline=1)\n",
    "plt.title('Crazy lines')\n",
    "\n",
    "\n",
    "# Or you can use a colormap to specify the colors; the default\n",
    "# colormap will be used for the contour lines\n",
    "plt.figure()\n",
    "im = plt.imshow(Z, interpolation='bilinear', origin='lower',\n",
    "                cmap=cm.gray, extent=(-3, 3, -2, 2))\n",
    "levels = np.arange(-1.2, 1.6, 0.2)\n",
    "CS = plt.contour(Z, levels,\n",
    "                 origin='lower',\n",
    "                 linewidths=2,\n",
    "                 extent=(-3, 3, -2, 2))\n",
    "\n",
    "# Thicken the zero contour.\n",
    "zc = CS.collections[6]\n",
    "plt.setp(zc, linewidth=4)\n",
    "\n",
    "plt.clabel(CS, levels[1::2],  # label every second level\n",
    "           inline=1,\n",
    "           fmt='%1.1f',\n",
    "           fontsize=14)\n",
    "\n",
    "# make a colorbar for the contour lines\n",
    "CB = plt.colorbar(CS, shrink=0.8, extend='both')\n",
    "\n",
    "plt.title('Lines with colorbar')\n",
    "#plt.hot()  # Now change the colormap for the contour lines and colorbar\n",
    "plt.flag()\n",
    "\n",
    "# We can still add a colorbar for the image, too.\n",
    "CBI = plt.colorbar(im, orientation='horizontal', shrink=0.8)\n",
    "\n",
    "# This makes the original colorbar look a bit out of place,\n",
    "# so let's improve its position.\n",
    "\n",
    "l, b, w, h = plt.gca().get_position().bounds\n",
    "ll, bb, ww, hh = CB.ax.get_position().bounds\n",
    "CB.ax.set_position([ll, b + 0.1*h, ww, h*0.8])\n",
    "\n",
    "\n",
    "plt.show()"
   ]
  },
  {
   "cell_type": "markdown",
   "id": "8fd12925",
   "metadata": {},
   "source": [
    "# 2"
   ]
  },
  {
   "cell_type": "code",
   "execution_count": 30,
   "id": "adfda595",
   "metadata": {},
   "outputs": [
    {
     "name": "stdout",
     "output_type": "stream",
     "text": [
      "x y z w\n",
      "0 0 1 0\n",
      "1 0 1 0\n",
      "1 1 1 0\n"
     ]
    }
   ],
   "source": [
    "#2\n",
    "print('x y z w')\n",
    "for x in range(2):\n",
    "   for y in range(2):\n",
    "      for z in range(2):\n",
    "         for w in range(2):\n",
    "            if (not(y<=x) or (z<=w) or not(z))==False:\n",
    "               print(x, y, z, w)"
   ]
  },
  {
   "cell_type": "markdown",
   "id": "6d98313b",
   "metadata": {},
   "source": [
    "# 5"
   ]
  },
  {
   "cell_type": "code",
   "execution_count": 32,
   "id": "fa9348c0",
   "metadata": {},
   "outputs": [
    {
     "name": "stdout",
     "output_type": "stream",
     "text": [
      "16 49\n"
     ]
    }
   ],
   "source": [
    "#5\n",
    "for i in range(1,100):\n",
    "    chislo=''\n",
    "    num=(bin(i)[2:])\n",
    "    if num.count('1')%2==0:\n",
    "        chislo='10'+num[2:]+'0'\n",
    "\n",
    "    if num.count('1')%2!=0:\n",
    "        chislo='11'+num[2:]+'1'\n",
    "    if int(chislo,2)>40:\n",
    "        print (i, int(chislo,2))\n",
    "        break"
   ]
  },
  {
   "cell_type": "code",
   "execution_count": 50,
   "id": "17b5a643",
   "metadata": {},
   "outputs": [],
   "source": [
    "#6\n",
    "from turtle import *\n",
    "left(90)\n",
    "for i in range(7):\n",
    "    forward(300)\n",
    "    right(120)\n",
    "pu()\n",
    "for x in range(1,9):\n",
    "    for y in range(1,10):\n",
    "        goto(x*30,y*30)\n",
    "        dot(5)\n",
    "done()"
   ]
  },
  {
   "cell_type": "code",
   "execution_count": 35,
   "id": "6fa781d8",
   "metadata": {},
   "outputs": [
    {
     "name": "stdout",
     "output_type": "stream",
     "text": [
      "2961\n"
     ]
    }
   ],
   "source": [
    "#8\n",
    "count=0\n",
    "for a in range (1,8):\n",
    "    for b in range (8):\n",
    "        for c in range (8):\n",
    "            for d in range (8):\n",
    "                for e in range (8):\n",
    "                    s=str(a)+str(b)+str(c)+str(d)+str(e)\n",
    "                    if s.count('6')==1 and s.index('6')==len(s)-1 and int(s[len(s)-2])%2==0:\n",
    "                        count+=1\n",
    "                    if s.count('6')==1 and s.index('6')==0 and int(s[1])%2==0:\n",
    "                        count+=1\n",
    "                    if s.count('6')==1 and s.index('6')<len(s)-1 and s.index('6')>0 and int(s[s.index('6')-1])%2==0 and int(s[s.index('6')+1])%2==0:\n",
    "                        count+=1\n",
    "print(count)"
   ]
  },
  {
   "cell_type": "code",
   "execution_count": 38,
   "id": "a67b28aa",
   "metadata": {},
   "outputs": [
    {
     "name": "stdout",
     "output_type": "stream",
     "text": [
      "5 137\n",
      "8 149\n",
      "10 157\n",
      "14 173\n",
      "16 181\n",
      "19 193\n",
      "20 197\n",
      "23 209\n",
      "26 221\n",
      "28 229\n",
      "29 233\n",
      "31 241\n",
      "34 253\n",
      "35 257\n",
      "38 269\n",
      "40 277\n",
      "41 281\n",
      "44 293\n",
      "49 313\n",
      "50 317\n",
      "55 337\n",
      "56 341\n",
      "58 349\n",
      "59 353\n",
      "64 373\n",
      "65 377\n",
      "68 389\n",
      "70 397\n",
      "71 401\n",
      "73 409\n",
      "76 421\n",
      "79 433\n",
      "80 437\n",
      "83 449\n",
      "85 457\n",
      "86 461\n",
      "89 473\n",
      "91 481\n",
      "94 493\n",
      "98 509\n"
     ]
    }
   ],
   "source": [
    "#12\n",
    "spisok=[]\n",
    "for n in range(1,1000):\n",
    "    if n%2!=0 and n%3!=0 and n%5!=0 and n%7!=0 and n%n**0.5!=0:\n",
    "        #print (n)\n",
    "        spisok.append(n)\n",
    "\n",
    "for i in spisok:\n",
    "    for y in range (0,100):\n",
    "        if y*4+117==i:\n",
    "            print(y, i)"
   ]
  },
  {
   "cell_type": "code",
   "execution_count": 40,
   "id": "a49ab479",
   "metadata": {},
   "outputs": [
    {
     "name": "stdout",
     "output_type": "stream",
     "text": [
      "4 8767\n",
      "11 10462\n"
     ]
    }
   ],
   "source": [
    "#14\n",
    "for x in range(15):\n",
    "    first15=1*15**4+2*15**3+3*15**2+x*15**1+5\n",
    "    second15=1*15**4+x*15**3+2*15**2+3*15+3\n",
    "    sum10=first15+second15\n",
    "    if sum10%14==0:\n",
    "        print(x , sum10//14) "
   ]
  },
  {
   "cell_type": "code",
   "execution_count": 42,
   "id": "47a4e77b",
   "metadata": {},
   "outputs": [
    {
     "name": "stdout",
     "output_type": "stream",
     "text": [
      "94\n"
     ]
    }
   ],
   "source": [
    "#15\n",
    "for a in range(1,1000):\n",
    "    flag=True\n",
    "    for x in range(1,100000):\n",
    "        if ((x%2==0) <= (x%3!=0)) or (x+a>=100):\n",
    "            flag=True\n",
    "        else:\n",
    "            flag=False\n",
    "            break\n",
    "    if flag==True: \n",
    "        print (a)\n",
    "        break"
   ]
  },
  {
   "cell_type": "code",
   "execution_count": 43,
   "id": "4e3a865e",
   "metadata": {},
   "outputs": [
    {
     "name": "stdout",
     "output_type": "stream",
     "text": [
      "8266912626.0\n"
     ]
    }
   ],
   "source": [
    "#16\n",
    "itog1=itog2=1\n",
    "for x1 in range(1,2024):\n",
    "    itog1=itog1*x1\n",
    "for x2 in range(1,2021):\n",
    "    itog2=itog2*x2\n",
    "print(itog1/itog2)"
   ]
  },
  {
   "cell_type": "code",
   "execution_count": 51,
   "id": "c7cb70f3",
   "metadata": {},
   "outputs": [
    {
     "name": "stdout",
     "output_type": "stream",
     "text": [
      "180 190360573\n"
     ]
    }
   ],
   "source": [
    "#17\n",
    "with open('17.txt') as f:\n",
    "   numbers=[int(x) for x in f]\n",
    "   #print(numbers)\n",
    "   maxi=[]\n",
    "   s=[]\n",
    "   \n",
    "   for i in range(0,len(numbers)):\n",
    "      if numbers[i]%10==3:\n",
    "         maxi.append(numbers[i])\n",
    "   maximum=0\n",
    "   for i in range(len(numbers)-1):\n",
    "      if ((abs(numbers[i])%10==3) and (abs(numbers[i+1])%10!=3)) or\\\n",
    "         ((abs(numbers[i])%10!=3) and (abs(numbers[i+1])%10==3)):\n",
    "         if (numbers[i]**2+numbers[i+1]**2) >= max(maxi)**2: \n",
    "               s.append(numbers[i]+numbers[i+1])\n",
    "               if numbers[i]**2+numbers[i+1]**2>maximum:\n",
    "                  maximum=numbers[i]**2+numbers[i+1]**2\n",
    "   print(len(s), maximum)"
   ]
  },
  {
   "cell_type": "code",
   "execution_count": 55,
   "id": "6a7e0f0b",
   "metadata": {},
   "outputs": [
    {
     "name": "stdout",
     "output_type": "stream",
     "text": [
      "95\n"
     ]
    }
   ],
   "source": [
    "#24\n",
    "with open('24.txt') as f:\n",
    "   letters=f.readline()\n",
    "   count,maximum=0,0\n",
    "   text=''\n",
    "   delta=0\n",
    "   for i in range(0,len(letters)-1):\n",
    "\n",
    "      if (letters[i]=='C' or letters[i]=='D' or letters[i]=='F') and (letters[i+1]=='A' or letters[i+1]=='O'):\n",
    "         delta=0\n",
    "         text=text+letters[i]+letters[i+1]\n",
    "         count+=1\n",
    "         if count>maximum: \n",
    "            maximum=count\n",
    "     \n",
    "      else: delta+=1\n",
    "      if delta==2:\n",
    "         count=0\n",
    "         text=''\n",
    "print(maximum)"
   ]
  }
 ],
 "metadata": {
  "kernelspec": {
   "display_name": "Python 3 (ipykernel)",
   "language": "python",
   "name": "python3"
  },
  "language_info": {
   "codemirror_mode": {
    "name": "ipython",
    "version": 3
   },
   "file_extension": ".py",
   "mimetype": "text/x-python",
   "name": "python",
   "nbconvert_exporter": "python",
   "pygments_lexer": "ipython3",
   "version": "3.10.5"
  }
 },
 "nbformat": 4,
 "nbformat_minor": 5
}
